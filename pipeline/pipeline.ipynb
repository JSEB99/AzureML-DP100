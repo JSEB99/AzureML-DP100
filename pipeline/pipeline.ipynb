{
 "cells": [
  {
   "cell_type": "code",
   "execution_count": 100,
   "metadata": {},
   "outputs": [],
   "source": [
    "from azure.ai.ml import MLClient\n",
    "from azure.identity import DefaultAzureCredential, InteractiveBrowserCredential\n",
    "from azure.ai.ml.dsl import pipeline\n",
    "from azure.ai.ml.entities import Job\n",
    "from azure.ai.ml import load_component\n",
    "from azure.ai.ml import Input, Output\n",
    "from azure.ai.ml.entities import PipelineJob\n",
    "from azure.ai.ml.constants import AssetTypes"
   ]
  },
  {
   "cell_type": "code",
   "execution_count": 3,
   "metadata": {},
   "outputs": [],
   "source": [
    "try:\n",
    "    credential = DefaultAzureCredential()\n",
    "    # Check if given credential can get token successfully.\n",
    "    credential.get_token(\"https://management.azure.com/.default\")\n",
    "except Exception as ex:\n",
    "    # Fall back to InteractiveBrowserCredential in case DefaultAzureCredential not work\n",
    "    credential = InteractiveBrowserCredential()"
   ]
  },
  {
   "cell_type": "code",
   "execution_count": 4,
   "metadata": {},
   "outputs": [
    {
     "name": "stderr",
     "output_type": "stream",
     "text": [
      "Found the config file in: .\\config.json\n"
     ]
    }
   ],
   "source": [
    "# Get a handle to workspace\n",
    "ml_client = MLClient.from_config(credential=credential)"
   ]
  },
  {
   "cell_type": "code",
   "execution_count": 215,
   "metadata": {},
   "outputs": [],
   "source": [
    "prepare_data = load_component(source=\"split_info.yaml\")"
   ]
  },
  {
   "cell_type": "code",
   "execution_count": 216,
   "metadata": {},
   "outputs": [],
   "source": [
    "logistic_regression = load_component(source=\"logistic_regression.yaml\")"
   ]
  },
  {
   "cell_type": "code",
   "execution_count": 217,
   "metadata": {},
   "outputs": [],
   "source": [
    "path_input = \"azureml://subscriptions/3de29edd-5970-4662-b0fb-929561c50c41/resourcegroups/riskanalyzers-rg/workspaces/riskanalyzers-mlw/datastores/workspaceblobstore/paths/UI/2024-05-25_232652_UTC/UCI_Credit_Card.csv\""
   ]
  },
  {
   "cell_type": "code",
   "execution_count": 218,
   "metadata": {},
   "outputs": [],
   "source": [
    "@pipeline()\n",
    "def training_pipeline(input_data: Input):\n",
    "    # Paso 1: Preparar los datos utilizando el componente de división de datos\n",
    "    prepare_data_step = prepare_data(input_data=input_data)\n",
    "    \n",
    "    # Paso 2: Entrenar el modelo utilizando el componente de regresión logística\n",
    "    train_model_step = logistic_regression(train_data=prepare_data_step.outputs.train_data,\n",
    "                                           test_data=prepare_data_step.outputs.test_data)\n",
    "    \n",
    "    return {\n",
    "        \"output_train_pre_data\": prepare_data_step.outputs.train_data,\n",
    "        \"output_test_pre_data\": prepare_data_step.outputs.test_data,\n",
    "        \"output_preds\": train_model_step.outputs.predictions\n",
    "    }"
   ]
  },
  {
   "cell_type": "code",
   "execution_count": 219,
   "metadata": {},
   "outputs": [],
   "source": [
    "# Crear y enviar la canalización\n",
    "pipeline_job = training_pipeline(input_data=Input(type=AssetTypes.URI_FILE, path=path_input))"
   ]
  },
  {
   "cell_type": "code",
   "execution_count": 220,
   "metadata": {},
   "outputs": [],
   "source": [
    "# set pipeline level compute\n",
    "pipeline_job.settings.default_compute = \"juan-risk\"\n",
    "# set pipeline level datastore\n",
    "pipeline_job.settings.default_datastore = \"workspaceblobstore\""
   ]
  },
  {
   "cell_type": "code",
   "execution_count": 221,
   "metadata": {},
   "outputs": [
    {
     "name": "stdout",
     "output_type": "stream",
     "text": [
      "display_name: training_pipeline\n",
      "type: pipeline\n",
      "inputs:\n",
      "  input_data:\n",
      "    type: uri_file\n",
      "    path: azureml://subscriptions/3de29edd-5970-4662-b0fb-929561c50c41/resourcegroups/riskanalyzers-rg/workspaces/riskanalyzers-mlw/datastores/workspaceblobstore/paths/UI/2024-05-25_232652_UTC/UCI_Credit_Card.csv\n",
      "outputs:\n",
      "  output_train_pre_data:\n",
      "    type: uri_file\n",
      "  output_test_pre_data:\n",
      "    type: uri_file\n",
      "  output_preds:\n",
      "    type: uri_file\n",
      "jobs:\n",
      "  prepare_data_step:\n",
      "    type: command\n",
      "    inputs:\n",
      "      input_data:\n",
      "        path: ${{parent.inputs.input_data}}\n",
      "    outputs:\n",
      "      train_data: ${{parent.outputs.output_train_pre_data}}\n",
      "      test_data: ${{parent.outputs.output_test_pre_data}}\n",
      "    component:\n",
      "      $schema: https://azuremlschemas.azureedge.net/latest/commandComponent.schema.json\n",
      "      name: split_data\n",
      "      version: '2'\n",
      "      display_name: Split data\n",
      "      type: command\n",
      "      inputs:\n",
      "        input_data:\n",
      "          type: uri_file\n",
      "      outputs:\n",
      "        train_data:\n",
      "          type: uri_file\n",
      "        test_data:\n",
      "          type: uri_file\n",
      "      command: python split_info.py --input_data ${{inputs.input_data}}\n",
      "      environment: azureml:AzureML-sklearn-0.24-ubuntu18.04-py37-cpu@latest\n",
      "      code: D:/CodigoFacilito/AzureML-DP100/pipeline\n",
      "      is_deterministic: true\n",
      "  train_model_step:\n",
      "    type: command\n",
      "    inputs:\n",
      "      train_data:\n",
      "        path: ${{parent.jobs.prepare_data_step.outputs.train_data}}\n",
      "      test_data:\n",
      "        path: ${{parent.jobs.prepare_data_step.outputs.test_data}}\n",
      "    outputs:\n",
      "      predictions: ${{parent.outputs.output_preds}}\n",
      "    component:\n",
      "      $schema: https://azuremlschemas.azureedge.net/latest/commandComponent.schema.json\n",
      "      name: logistic_regression_component\n",
      "      version: '2'\n",
      "      display_name: Logistic Regression Component\n",
      "      type: command\n",
      "      inputs:\n",
      "        train_data:\n",
      "          type: uri_file\n",
      "        test_data:\n",
      "          type: uri_file\n",
      "      outputs:\n",
      "        predictions:\n",
      "          type: uri_file\n",
      "      command: 'python logistic_regression.py --train_data ${{inputs.train_data}}\n",
      "        --test_data ${{inputs.test_data}} --output_preds ${{outputs.predictions}}\n",
      "\n",
      "        '\n",
      "      environment: azureml:AzureML-sklearn-0.24-ubuntu18.04-py37-cpu@latest\n",
      "      code: D:/CodigoFacilito/AzureML-DP100/pipeline\n",
      "      is_deterministic: true\n",
      "settings:\n",
      "  default_datastore: azureml:workspaceblobstore\n",
      "  default_compute: azureml:juan-risk\n",
      "\n"
     ]
    }
   ],
   "source": [
    "print(pipeline_job)"
   ]
  },
  {
   "cell_type": "code",
   "execution_count": 222,
   "metadata": {},
   "outputs": [
    {
     "name": "stderr",
     "output_type": "stream",
     "text": [
      "Uploading pipeline (2.9 MBs): 100%|##########| 2896962/2896962 [00:05<00:00, 566657.26it/s]\n",
      "\n",
      "\n"
     ]
    }
   ],
   "source": [
    "# submit job to workspace\n",
    "pipeline_job = ml_client.jobs.create_or_update(\n",
    "    pipeline_job, experiment_name=\"training_pipeline\"\n",
    ")"
   ]
  }
 ],
 "metadata": {
  "kernelspec": {
   "display_name": "sdkvenv",
   "language": "python",
   "name": "python3"
  },
  "language_info": {
   "codemirror_mode": {
    "name": "ipython",
    "version": 3
   },
   "file_extension": ".py",
   "mimetype": "text/x-python",
   "name": "python",
   "nbconvert_exporter": "python",
   "pygments_lexer": "ipython3",
   "version": "3.11.8"
  }
 },
 "nbformat": 4,
 "nbformat_minor": 2
}
