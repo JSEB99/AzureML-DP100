{
 "cells": [
  {
   "cell_type": "code",
   "execution_count": 7,
   "metadata": {},
   "outputs": [],
   "source": [
    "from azure.ai.ml import MLClient\n",
    "from azure.identity import DefaultAzureCredential, InteractiveBrowserCredential\n",
    "from azure.ai.ml.dsl import pipeline\n",
    "from azure.ai.ml import load_component\n",
    "from azure.ai.ml import Input,Output, automl, command\n",
    "from azure.ai.ml.constants import AssetTypes"
   ]
  },
  {
   "cell_type": "code",
   "execution_count": 2,
   "metadata": {},
   "outputs": [],
   "source": [
    "try:\n",
    "    credential = DefaultAzureCredential()\n",
    "    # Check if given credential can get token successfully.\n",
    "    credential.get_token(\"https://management.azure.com/.default\")\n",
    "except Exception as ex:\n",
    "    # Fall back to InteractiveBrowserCredential in case DefaultAzureCredential not work\n",
    "    credential = InteractiveBrowserCredential()"
   ]
  },
  {
   "cell_type": "code",
   "execution_count": 3,
   "metadata": {},
   "outputs": [
    {
     "name": "stderr",
     "output_type": "stream",
     "text": [
      "Found the config file in: .\\config.json\n"
     ]
    }
   ],
   "source": [
    "# Get a handle to workspace\n",
    "ml_client = MLClient.from_config(credential=credential)"
   ]
  },
  {
   "cell_type": "code",
   "execution_count": 4,
   "metadata": {},
   "outputs": [],
   "source": [
    "prepare_data = load_component(source=\"split_info.yaml\")"
   ]
  },
  {
   "cell_type": "code",
   "execution_count": 94,
   "metadata": {},
   "outputs": [],
   "source": [
    "logistic_regression = load_component(source=\"logistic_regression.yaml\")"
   ]
  },
  {
   "cell_type": "code",
   "execution_count": 95,
   "metadata": {},
   "outputs": [],
   "source": [
    "path_input = \"azureml://subscriptions/3de29edd-5970-4662-b0fb-929561c50c41/resourcegroups/riskanalyzers-rg/workspaces/riskanalyzers-mlw/datastores/workspaceblobstore/paths/UI/2024-05-25_232652_UTC/UCI_Credit_Card.csv\""
   ]
  },
  {
   "cell_type": "code",
   "execution_count": 96,
   "metadata": {},
   "outputs": [],
   "source": [
    "@pipeline()\n",
    "def training_pipeline(file: Input):\n",
    "    # Paso 1: Preparar los datos utilizando el componente de división de datos\n",
    "    prepare_data_step = prepare_data(input_data=file)\n",
    "    \n",
    "    # Paso 2: Entrenar el modelo utilizando el componente de regresión logística\n",
    "    train_model_step = logistic_regression(input_dir = prepare_data_step.outputs.output_path)\n",
    "    \n",
    "    return {\n",
    "        \"output_dir\": prepare_data_step.outputs.output_path,\n",
    "        \"output_preds\": train_model_step.outputs.predictions\n",
    "    }"
   ]
  },
  {
   "cell_type": "code",
   "execution_count": 19,
   "metadata": {},
   "outputs": [],
   "source": [
    "# Define pipeline\n",
    "@pipeline(\n",
    "    description=\"AutoML Classification Pipeline\",\n",
    "    )\n",
    "def automl_classification(\n",
    "    classification_train_data,\n",
    "    classification_validation_data\n",
    "):\n",
    "    # define the automl classification task with automl function\n",
    "    classification_node = automl.classification(\n",
    "        training_data=classification_train_data,\n",
    "        validation_data=classification_validation_data,\n",
    "        target_column_name=\"default\",\n",
    "        primary_metric=\"accuracy\",\n",
    "        # currently need to specify outputs \"mlflow_model\" explictly to reference it in following nodes \n",
    "        outputs={\"best_model\": Output(type=\"mlflow_model\")},\n",
    "    )\n",
    "    # set limits and training\n",
    "    classification_node.set_limits(max_trials=1)\n",
    "    classification_node.set_training(\n",
    "        enable_stack_ensemble=False,\n",
    "        enable_vote_ensemble=False,\n",
    "        allowed_training_algorithms=['logistic_regression','light_gbm','random_forest']\n",
    "    )\n",
    "\n",
    "    command_func = command(\n",
    "        inputs=dict(\n",
    "            automl_output=Input(type=\"mlflow_model\")\n",
    "        ),\n",
    "        command=\"ls ${{inputs.automl_output}}\",\n",
    "        environment=\"azureml:AzureML-sklearn-0.24-ubuntu18.04-py37-cpu@latest\"\n",
    "    )\n",
    "    show_output = command_func(automl_output=classification_node.outputs.best_model)"
   ]
  },
  {
   "cell_type": "code",
   "execution_count": 21,
   "metadata": {},
   "outputs": [],
   "source": [
    "URI_TRAIN_PATH = \"azureml://subscriptions/3de29edd-5970-4662-b0fb-929561c50c41/resourcegroups/riskanalyzers-rg/workspaces/riskanalyzers-mlw/datastores/workspaceblobstore/paths/LocalUpload/997b08903632ae607733d8b3c3ab8345/train_data/\"\n",
    "URI_TEST_PATH = \"azureml://subscriptions/3de29edd-5970-4662-b0fb-929561c50c41/resourcegroups/riskanalyzers-rg/workspaces/riskanalyzers-mlw/datastores/workspaceblobstore/paths/LocalUpload/7349a5f9f32a1e5df860eeaa80bc1a31/test_data/\""
   ]
  },
  {
   "cell_type": "code",
   "execution_count": 22,
   "metadata": {},
   "outputs": [],
   "source": [
    "import logging\n",
    "try:\n",
    "    pipeline_job = automl_classification(\n",
    "        classification_train_data=Input(path=URI_TRAIN_PATH, type=AssetTypes.MLTABLE),\n",
    "        classification_validation_data=Input(path=URI_TEST_PATH, type=AssetTypes.MLTABLE),\n",
    "    )\n",
    "    \n",
    "    # Set pipeline level compute\n",
    "    pipeline_job.settings.default_compute = \"juan-risk\"\n",
    "\n",
    "    # Submit the pipeline job\n",
    "    returned_pipeline_job = ml_client.jobs.create_or_update(\n",
    "        pipeline_job,\n",
    "        experiment_name=\"project-codigo-facilito\"\n",
    "    )\n",
    "\n",
    "    logging.info(\"Pipeline job submitted successfully: %s\", returned_pipeline_job)\n",
    "except Exception as e:\n",
    "    logging.error(\"An error occurred while creating or updating the pipeline job: %s\", e)\n",
    "    raise"
   ]
  },
  {
   "cell_type": "code",
   "execution_count": 97,
   "metadata": {},
   "outputs": [],
   "source": [
    "# Crear y enviar la canalización\n",
    "pipeline_job = training_pipeline(file=Input(type=AssetTypes.URI_FILE, path=path_input))"
   ]
  },
  {
   "cell_type": "code",
   "execution_count": 98,
   "metadata": {},
   "outputs": [],
   "source": [
    "# set pipeline level compute\n",
    "pipeline_job.settings.default_compute = \"juan-risk\"\n",
    "# set pipeline level datastore\n",
    "pipeline_job.settings.default_datastore = \"workspaceblobstore\""
   ]
  },
  {
   "cell_type": "code",
   "execution_count": 99,
   "metadata": {},
   "outputs": [
    {
     "name": "stdout",
     "output_type": "stream",
     "text": [
      "display_name: training_pipeline\n",
      "type: pipeline\n",
      "inputs:\n",
      "  file:\n",
      "    type: uri_file\n",
      "    path: azureml://subscriptions/3de29edd-5970-4662-b0fb-929561c50c41/resourcegroups/riskanalyzers-rg/workspaces/riskanalyzers-mlw/datastores/workspaceblobstore/paths/UI/2024-05-25_232652_UTC/UCI_Credit_Card.csv\n",
      "outputs:\n",
      "  output_dir:\n",
      "    type: uri_folder\n",
      "  output_preds:\n",
      "    type: uri_folder\n",
      "jobs:\n",
      "  prepare_data_step:\n",
      "    type: command\n",
      "    inputs:\n",
      "      input_data:\n",
      "        path: ${{parent.inputs.file}}\n",
      "    outputs:\n",
      "      output_path: ${{parent.outputs.output_dir}}\n",
      "    component:\n",
      "      $schema: https://azuremlschemas.azureedge.net/latest/commandComponent.schema.json\n",
      "      name: split_data\n",
      "      version: '2'\n",
      "      display_name: Split data\n",
      "      type: command\n",
      "      inputs:\n",
      "        input_data:\n",
      "          type: uri_file\n",
      "      outputs:\n",
      "        output_path:\n",
      "          type: uri_folder\n",
      "      command: python split_info.py --input_data ${{inputs.input_data}} --output_path\n",
      "        ${{outputs.output_path}}\n",
      "      environment: azureml:AzureML-sklearn-0.24-ubuntu18.04-py37-cpu@latest\n",
      "      code: azureml:/subscriptions/3de29edd-5970-4662-b0fb-929561c50c41/resourceGroups/riskanalyzers-rg/providers/Microsoft.MachineLearningServices/workspaces/riskanalyzers-mlw/codes/8ff22440-0154-4ae7-9713-5f33d6afa9c5/versions/1\n",
      "      id: /subscriptions/3de29edd-5970-4662-b0fb-929561c50c41/resourceGroups/riskanalyzers-rg/providers/Microsoft.MachineLearningServices/workspaces/riskanalyzers-mlw/components/azureml_anonymous/versions/5709b9b2-0350-448f-9374-0337509bc1ab\n",
      "      is_deterministic: true\n",
      "  train_model_step:\n",
      "    type: command\n",
      "    inputs:\n",
      "      input_dir:\n",
      "        path: ${{parent.jobs.prepare_data_step.outputs.output_path}}\n",
      "    outputs:\n",
      "      predictions: ${{parent.outputs.output_preds}}\n",
      "    component:\n",
      "      $schema: https://azuremlschemas.azureedge.net/latest/commandComponent.schema.json\n",
      "      name: logistic_regression_component\n",
      "      version: '2'\n",
      "      display_name: Logistic Regression Component\n",
      "      type: command\n",
      "      inputs:\n",
      "        input_dir:\n",
      "          type: uri_folder\n",
      "      outputs:\n",
      "        predictions:\n",
      "          type: uri_folder\n",
      "      command: 'python logistic_regression.py --input_dir ${{inputs.input_dir}} --output_dir\n",
      "        ${{outputs.predictions}}\n",
      "\n",
      "        '\n",
      "      environment: azureml:AzureML-sklearn-0.24-ubuntu18.04-py37-cpu@latest\n",
      "      code: D:/CodigoFacilito/AzureML-DP100/pipeline\n",
      "      is_deterministic: true\n",
      "settings:\n",
      "  default_datastore: azureml:workspaceblobstore\n",
      "  default_compute: azureml:juan-risk\n",
      "\n"
     ]
    }
   ],
   "source": [
    "print(pipeline_job)"
   ]
  },
  {
   "cell_type": "code",
   "execution_count": 100,
   "metadata": {},
   "outputs": [
    {
     "name": "stderr",
     "output_type": "stream",
     "text": [
      "\u001b[32mUploading pipeline (2.88 MBs): 100%|##########| 2876024/2876024 [00:01<00:00, 1676956.36it/s]\n",
      "\u001b[39m\n",
      "\n"
     ]
    }
   ],
   "source": [
    "# submit job to workspace\n",
    "pipeline_job = ml_client.jobs.create_or_update(\n",
    "    pipeline_job, experiment_name=\"training_pipeline\"\n",
    ")"
   ]
  }
 ],
 "metadata": {
  "kernelspec": {
   "display_name": "sdkvenv",
   "language": "python",
   "name": "python3"
  },
  "language_info": {
   "codemirror_mode": {
    "name": "ipython",
    "version": 3
   },
   "file_extension": ".py",
   "mimetype": "text/x-python",
   "name": "python",
   "nbconvert_exporter": "python",
   "pygments_lexer": "ipython3",
   "version": "3.11.8"
  }
 },
 "nbformat": 4,
 "nbformat_minor": 2
}
